{
 "cells": [
  {
   "cell_type": "code",
   "execution_count": 1,
   "metadata": {},
   "outputs": [],
   "source": [
    "import sys, os\n",
    "modules_path = os.path.abspath('../modules')\n",
    "if modules_path not in sys.path:\n",
    "    sys.path.append(modules_path)\n",
    "\n",
    "\n",
    "%matplotlib inline\n",
    "%reload_ext autoreload\n",
    "%autoreload 2"
   ]
  },
  {
   "cell_type": "code",
   "execution_count": 2,
   "metadata": {},
   "outputs": [],
   "source": [
    "from ptest import cClass\n",
    "from array import array"
   ]
  },
  {
   "cell_type": "code",
   "execution_count": 8,
   "metadata": {},
   "outputs": [
    {
     "data": {
      "text/plain": [
       "'\\nJust keep top level tree roughly the same, have it pre-initiate all the trees below cutoff point then run them all in parallel using prang, storing each in a dict. The niterate across the levels above the cutpoint.\\n'"
      ]
     },
     "execution_count": 8,
     "metadata": {},
     "output_type": "execute_result"
    }
   ],
   "source": [
    "\"\"\"\n",
    "Just keep top level tree roughly the same, have it pre-initiate all the trees below cutoff point then run them all in parallel using prang, storing each in a dict. The niterate across the levels above the cutpoint.\n",
    "\"\"\""
   ]
  },
  {
   "cell_type": "code",
   "execution_count": 3,
   "metadata": {},
   "outputs": [],
   "source": [
    "arr = array('d', [1,2,3,4,5])"
   ]
  },
  {
   "cell_type": "code",
   "execution_count": 4,
   "metadata": {},
   "outputs": [],
   "source": [
    "aclass = cClass(arr)"
   ]
  },
  {
   "cell_type": "code",
   "execution_count": 5,
   "metadata": {},
   "outputs": [
    {
     "name": "stdout",
     "output_type": "stream",
     "text": [
      "C\n",
      "30.0\n",
      "X\n",
      "30.0\n"
     ]
    }
   ],
   "source": [
    "aclass.test()"
   ]
  },
  {
   "cell_type": "code",
   "execution_count": 6,
   "metadata": {},
   "outputs": [
    {
     "data": {
      "text/plain": [
       "15.0"
      ]
     },
     "execution_count": 6,
     "metadata": {},
     "output_type": "execute_result"
    }
   ],
   "source": [
    "aclass.get_sum()"
   ]
  },
  {
   "cell_type": "code",
   "execution_count": 8,
   "metadata": {},
   "outputs": [],
   "source": [
    "from array import array"
   ]
  },
  {
   "cell_type": "code",
   "execution_count": 9,
   "metadata": {},
   "outputs": [
    {
     "data": {
      "text/plain": [
       "array('d', [1.0, 1.0, 1.0, 1.0, 1.0, 1.0, 1.0, 1.0, 1.0, 1.0])"
      ]
     },
     "execution_count": 9,
     "metadata": {},
     "output_type": "execute_result"
    }
   ],
   "source": [
    "array('d', [1]*10)"
   ]
  },
  {
   "cell_type": "code",
   "execution_count": 10,
   "metadata": {},
   "outputs": [
    {
     "data": {
      "text/plain": [
       "numpy.float64"
      ]
     },
     "execution_count": 10,
     "metadata": {},
     "output_type": "execute_result"
    }
   ],
   "source": [
    "np.float64"
   ]
  },
  {
   "cell_type": "code",
   "execution_count": 6,
   "metadata": {},
   "outputs": [],
   "source": [
    "np.zeros()"
   ]
  },
  {
   "cell_type": "code",
   "execution_count": null,
   "metadata": {},
   "outputs": [],
   "source": [
    "# memview_bench_v3.pyx\n",
    "import numpy as np\n",
    "\n",
    "cimport numpy as np\n",
    "from libc.math cimport sqrt\n",
    "cimport cython\n",
    "\n",
    "# define a function pointer to a metric\n",
    "ctypedef double (*metric_ptr)(double[::1], double[::1])\n",
    "\n",
    "@cython.boundscheck(False)\n",
    "@cython.wraparound(False)\n",
    "cdef double euclidean_distance(double[::1] x1,\n",
    "                               double[::1] x2):\n",
    "    cdef double tmp, d\n",
    "    cdef np.intp_t i, N\n",
    "\n",
    "    d = 0\n",
    "    N = x1.shape[0]\n",
    "    # assume x2 has the same shape as x1.  This could be dangerous!\n",
    "\n",
    "    for i in range(N):\n",
    "        tmp = x1[i] - x2[i]\n",
    "        d += tmp * tmp\n",
    "\n",
    "    return sqrt(d)\n"
   ]
  },
  {
   "cell_type": "code",
   "execution_count": null,
   "metadata": {},
   "outputs": [],
   "source": [
    "# memview_bench_v5.pyx\n",
    "import numpy as np\n",
    "\n",
    "cimport numpy as np\n",
    "from libc.math cimport sqrt\n",
    "cimport cython\n",
    "\n",
    "# define a function pointer to a metric\n",
    "ctypedef double (*metric_ptr)(double[:, ::1], np.intp_t, np.intp_t)\n",
    "\n",
    "@cython.boundscheck(False)\n",
    "@cython.wraparound(False)\n",
    "cdef double euclidean_distance(double[:, ::1] X,\n",
    "                               np.intp_t i1, np.intp_t i2):\n",
    "    cdef double tmp, d\n",
    "    cdef np.intp_t j\n",
    "\n",
    "    d = 0\n",
    "\n",
    "    for j in range(X.shape[1]):\n",
    "        tmp = X[i1, j] - X[i2, j]\n",
    "        d += tmp * tmp\n",
    "\n",
    "    return sqrt(d)"
   ]
  },
  {
   "cell_type": "code",
   "execution_count": null,
   "metadata": {},
   "outputs": [],
   "source": []
  },
  {
   "cell_type": "code",
   "execution_count": null,
   "metadata": {},
   "outputs": [],
   "source": [
    "@cython.boundscheck(False)\n",
    "@cython.wraparound(False)\n",
    "def pairwise(double[:, ::1] X not None,\n",
    "             metric = 'euclidean'):\n",
    "    cdef metric_ptr dist_func\n",
    "    if metric == 'euclidean':\n",
    "        dist_func = &euclidean_distance\n",
    "    else:\n",
    "        raise ValueError(\"unrecognized metric\")\n",
    "\n",
    "    cdef np.intp_t i, j, n_samples\n",
    "    n_samples = X.shape[0]\n",
    "\n",
    "    cdef double[:, ::1] D = np.empty((n_samples, n_samples))\n",
    "\n",
    "    for i in range(n_samples):\n",
    "        for j in range(n_samples):\n",
    "            D[i, j] = dist_func(X[i], X[j])\n",
    "\n",
    "    return D\n",
    "\n",
    "@cython.boundscheck(False)\n",
    "@cython.wraparound(False)\n",
    "def pairwise(double[:, ::1] X not None,\n",
    "             metric = 'euclidean'):\n",
    "    cdef metric_ptr dist_func\n",
    "    if metric == 'euclidean':\n",
    "        dist_func = &euclidean_distance\n",
    "    else:\n",
    "        raise ValueError(\"unrecognized metric\")\n",
    "\n",
    "    cdef np.intp_t i, j, n_samples, n_dim\n",
    "    n_samples = X.shape[0]\n",
    "    n_dim = X.shape[1]\n",
    "\n",
    "    cdef double[:, ::1] D = np.empty((n_samples, n_samples))\n",
    "\n",
    "    for i in range(n_samples):\n",
    "        for j in range(n_samples):\n",
    "            D[i, j] = dist_func(X, i, j)\n",
    "\n",
    "    return D"
   ]
  }
 ],
 "metadata": {
  "kernelspec": {
   "display_name": "binding",
   "language": "python",
   "name": "binding"
  },
  "language_info": {
   "codemirror_mode": {
    "name": "ipython",
    "version": 3
   },
   "file_extension": ".py",
   "mimetype": "text/x-python",
   "name": "python",
   "nbconvert_exporter": "python",
   "pygments_lexer": "ipython3",
   "version": "3.6.4"
  }
 },
 "nbformat": 4,
 "nbformat_minor": 2
}
